{
 "cells": [
  {
   "cell_type": "code",
   "execution_count": 249,
   "id": "f77fecc2",
   "metadata": {},
   "outputs": [],
   "source": [
    "import json, os\n",
    "import pandas as pd\n",
    "\n",
    "search_list = [\"IEEE Transactions on Software Engineering\", \"ACM Transactions on Software Engineering and Methodology\", \"ACM Transactions on Software Engineering and Methodology\", \"Automated Software Engineering\", \"Empirical Software Engineering\", \"IEEE Transactions on Neural Networks and Learning Systems\"]\n",
    "search_list = [\"_\".join(item.split(\" \")) for item in search_list]\n",
    "keyword_list = [\"empirical\", \"code\", \"commit\", \"diff\", \"change\", \"generation\", \"experimental\", \"commits\", \"diffs\", \"changes\", \"language\", \"multi\", \"multi-language\", \"multilingual\"]\n",
    "keyword_list.sort()\n",
    "keyword_str = \"_\".join(keyword_list)\n",
    "\n",
    "result = dict()\n",
    "count_total = dict()\n",
    "count_include_ketyword_title = dict()\n",
    "for journal in search_list:\n",
    "    single_result = json.load(open(os.path.join(\"searched_result\", journal,\"{}.json\".format(keyword_str))))\n",
    "    result[journal] = single_result[list(single_result.keys())[0]]\n",
    "    count_total[journal], count_include_ketyword_title[journal] = dict(), dict()\n",
    "    for each in result[journal]:\n",
    "        count_total[journal][each['paper_list_url']] = each['papers_total_n']\n",
    "        count_include_ketyword_title[journal][each['paper_list_url']] = dict()\n",
    "        for keyword in keyword_list:\n",
    "            count_include_ketyword_title[journal][each['paper_list_url']][keyword] = len(each['matched_titles'][keyword])\n"
   ]
  },
  {
   "cell_type": "code",
   "execution_count": 250,
   "id": "3c9e5d37",
   "metadata": {},
   "outputs": [],
   "source": [
    "count = dict()\n",
    "journal_total = dict()\n",
    "for journal in count_include_ketyword_title.keys():\n",
    "    count[journal] = {key:0 for key in keyword_list}\n",
    "    journal_total[journal] = 0\n",
    "    for url in count_include_ketyword_title[journal].keys():\n",
    "        for keyword in keyword_list:\n",
    "            count[journal][keyword] += count_include_ketyword_title[journal][url][keyword]\n",
    "        journal_total[journal] += count_total[journal][url]"
   ]
  },
  {
   "cell_type": "code",
   "execution_count": 251,
   "id": "82a0fac8",
   "metadata": {},
   "outputs": [
    {
     "data": {
      "text/plain": [
       "{'IEEE_Transactions_on_Software_Engineering': 3730,\n",
       " 'ACM_Transactions_on_Software_Engineering_and_Methodology': 570,\n",
       " 'Automated_Software_Engineering': 527,\n",
       " 'Empirical_Software_Engineering': 1163,\n",
       " 'IEEE_Transactions_on_Neural_Networks_and_Learning_Systems': 6105}"
      ]
     },
     "execution_count": 251,
     "metadata": {},
     "output_type": "execute_result"
    }
   ],
   "source": [
    "journal_total"
   ]
  },
  {
   "cell_type": "code",
   "execution_count": 196,
   "id": "9e24b74c",
   "metadata": {},
   "outputs": [
    {
     "data": {
      "text/plain": [
       "{'IEEE_Transactions_on_Software_Engineering': {'change': 22,\n",
       "  'changes': 17,\n",
       "  'code': 97,\n",
       "  'commit': 0,\n",
       "  'commits': 1,\n",
       "  'diff': 1,\n",
       "  'diffs': 0,\n",
       "  'empirical': 107,\n",
       "  'experimental': 22,\n",
       "  'generation': 60,\n",
       "  'language': 122,\n",
       "  'multi': 21,\n",
       "  'multi-language': 0,\n",
       "  'multilingual': 1},\n",
       " 'ACM_Transactions_on_Software_Engineering_and_Methodology': {'change': 1,\n",
       "  'changes': 3,\n",
       "  'code': 29,\n",
       "  'commit': 0,\n",
       "  'commits': 0,\n",
       "  'diff': 0,\n",
       "  'diffs': 0,\n",
       "  'empirical': 22,\n",
       "  'experimental': 5,\n",
       "  'generation': 16,\n",
       "  'language': 11,\n",
       "  'multi': 9,\n",
       "  'multi-language': 0,\n",
       "  'multilingual': 0},\n",
       " 'Automated_Software_Engineering': {'change': 5,\n",
       "  'changes': 0,\n",
       "  'code': 24,\n",
       "  'commit': 0,\n",
       "  'commits': 0,\n",
       "  'diff': 0,\n",
       "  'diffs': 0,\n",
       "  'empirical': 3,\n",
       "  'experimental': 0,\n",
       "  'generation': 17,\n",
       "  'language': 14,\n",
       "  'multi': 12,\n",
       "  'multi-language': 0,\n",
       "  'multilingual': 0},\n",
       " 'Empirical_Software_Engineering': {'change': 27,\n",
       "  'changes': 24,\n",
       "  'code': 92,\n",
       "  'commit': 2,\n",
       "  'commits': 3,\n",
       "  'diff': 1,\n",
       "  'diffs': 0,\n",
       "  'empirical': 200,\n",
       "  'experimental': 19,\n",
       "  'generation': 14,\n",
       "  'language': 10,\n",
       "  'multi': 14,\n",
       "  'multi-language': 0,\n",
       "  'multilingual': 1},\n",
       " 'IEEE_Transactions_on_Neural_Networks_and_Learning_Systems': {'change': 15,\n",
       "  'changes': 5,\n",
       "  'code': 3,\n",
       "  'commit': 0,\n",
       "  'commits': 0,\n",
       "  'diff': 0,\n",
       "  'diffs': 0,\n",
       "  'empirical': 13,\n",
       "  'experimental': 6,\n",
       "  'generation': 19,\n",
       "  'language': 11,\n",
       "  'multi': 48,\n",
       "  'multi-language': 0,\n",
       "  'multilingual': 0}}"
      ]
     },
     "execution_count": 196,
     "metadata": {},
     "output_type": "execute_result"
    }
   ],
   "source": [
    "count"
   ]
  },
  {
   "cell_type": "markdown",
   "id": "baba8057",
   "metadata": {},
   "source": [
    "## The number of papers with keywords as titles since the records of 5 journals "
   ]
  },
  {
   "cell_type": "code",
   "execution_count": 273,
   "id": "19d61766",
   "metadata": {},
   "outputs": [
    {
     "data": {
      "text/html": [
       "<div>\n",
       "<style scoped>\n",
       "    .dataframe tbody tr th:only-of-type {\n",
       "        vertical-align: middle;\n",
       "    }\n",
       "\n",
       "    .dataframe tbody tr th {\n",
       "        vertical-align: top;\n",
       "    }\n",
       "\n",
       "    .dataframe thead th {\n",
       "        text-align: right;\n",
       "    }\n",
       "</style>\n",
       "<table border=\"1\" class=\"dataframe\">\n",
       "  <thead>\n",
       "    <tr style=\"text-align: right;\">\n",
       "      <th></th>\n",
       "      <th>TSE</th>\n",
       "      <th>TOSEM</th>\n",
       "      <th>ASE</th>\n",
       "      <th>ESE</th>\n",
       "      <th>TNNLS</th>\n",
       "    </tr>\n",
       "  </thead>\n",
       "  <tbody>\n",
       "    <tr>\n",
       "      <th>change</th>\n",
       "      <td>22</td>\n",
       "      <td>1</td>\n",
       "      <td>5</td>\n",
       "      <td>27</td>\n",
       "      <td>15</td>\n",
       "    </tr>\n",
       "    <tr>\n",
       "      <th>changes</th>\n",
       "      <td>17</td>\n",
       "      <td>3</td>\n",
       "      <td>0</td>\n",
       "      <td>24</td>\n",
       "      <td>5</td>\n",
       "    </tr>\n",
       "    <tr>\n",
       "      <th>code</th>\n",
       "      <td>97</td>\n",
       "      <td>29</td>\n",
       "      <td>24</td>\n",
       "      <td>92</td>\n",
       "      <td>3</td>\n",
       "    </tr>\n",
       "    <tr>\n",
       "      <th>commit</th>\n",
       "      <td>0</td>\n",
       "      <td>0</td>\n",
       "      <td>0</td>\n",
       "      <td>2</td>\n",
       "      <td>0</td>\n",
       "    </tr>\n",
       "    <tr>\n",
       "      <th>commits</th>\n",
       "      <td>1</td>\n",
       "      <td>0</td>\n",
       "      <td>0</td>\n",
       "      <td>3</td>\n",
       "      <td>0</td>\n",
       "    </tr>\n",
       "    <tr>\n",
       "      <th>diff</th>\n",
       "      <td>1</td>\n",
       "      <td>0</td>\n",
       "      <td>0</td>\n",
       "      <td>1</td>\n",
       "      <td>0</td>\n",
       "    </tr>\n",
       "    <tr>\n",
       "      <th>diffs</th>\n",
       "      <td>0</td>\n",
       "      <td>0</td>\n",
       "      <td>0</td>\n",
       "      <td>0</td>\n",
       "      <td>0</td>\n",
       "    </tr>\n",
       "    <tr>\n",
       "      <th>empirical</th>\n",
       "      <td>107</td>\n",
       "      <td>22</td>\n",
       "      <td>3</td>\n",
       "      <td>200</td>\n",
       "      <td>13</td>\n",
       "    </tr>\n",
       "    <tr>\n",
       "      <th>experimental</th>\n",
       "      <td>22</td>\n",
       "      <td>5</td>\n",
       "      <td>0</td>\n",
       "      <td>19</td>\n",
       "      <td>6</td>\n",
       "    </tr>\n",
       "    <tr>\n",
       "      <th>generation</th>\n",
       "      <td>60</td>\n",
       "      <td>16</td>\n",
       "      <td>17</td>\n",
       "      <td>14</td>\n",
       "      <td>19</td>\n",
       "    </tr>\n",
       "    <tr>\n",
       "      <th>language</th>\n",
       "      <td>122</td>\n",
       "      <td>11</td>\n",
       "      <td>14</td>\n",
       "      <td>10</td>\n",
       "      <td>11</td>\n",
       "    </tr>\n",
       "    <tr>\n",
       "      <th>multi</th>\n",
       "      <td>21</td>\n",
       "      <td>9</td>\n",
       "      <td>12</td>\n",
       "      <td>14</td>\n",
       "      <td>48</td>\n",
       "    </tr>\n",
       "    <tr>\n",
       "      <th>multi-language</th>\n",
       "      <td>0</td>\n",
       "      <td>0</td>\n",
       "      <td>0</td>\n",
       "      <td>0</td>\n",
       "      <td>0</td>\n",
       "    </tr>\n",
       "    <tr>\n",
       "      <th>multilingual</th>\n",
       "      <td>1</td>\n",
       "      <td>0</td>\n",
       "      <td>0</td>\n",
       "      <td>1</td>\n",
       "      <td>0</td>\n",
       "    </tr>\n",
       "  </tbody>\n",
       "</table>\n",
       "</div>"
      ],
      "text/plain": [
       "                TSE  TOSEM  ASE  ESE  TNNLS\n",
       "change           22      1    5   27     15\n",
       "changes          17      3    0   24      5\n",
       "code             97     29   24   92      3\n",
       "commit            0      0    0    2      0\n",
       "commits           1      0    0    3      0\n",
       "diff              1      0    0    1      0\n",
       "diffs             0      0    0    0      0\n",
       "empirical       107     22    3  200     13\n",
       "experimental     22      5    0   19      6\n",
       "generation       60     16   17   14     19\n",
       "language        122     11   14   10     11\n",
       "multi            21      9   12   14     48\n",
       "multi-language    0      0    0    0      0\n",
       "multilingual      1      0    0    1      0"
      ]
     },
     "execution_count": 273,
     "metadata": {},
     "output_type": "execute_result"
    }
   ],
   "source": [
    "df = pd.DataFrame(count, columns=count.keys(), index=count['Automated_Software_Engineering'].keys())\n",
    "df.columns=[\"TSE\",\"TOSEM\",\"ASE\",\"ESE\",\"TNNLS\"]\n",
    "df"
   ]
  },
  {
   "cell_type": "code",
   "execution_count": 242,
   "id": "e3d81987",
   "metadata": {},
   "outputs": [
    {
     "data": {
      "text/plain": [
       "<AxesSubplot:>"
      ]
     },
     "execution_count": 242,
     "metadata": {},
     "output_type": "execute_result"
    },
    {
     "data": {
      "image/png": "[encoded data removed]",
      "text/plain": [
       "<Figure size 1152x648 with 1 Axes>"
      ]
     },
     "metadata": {
      "needs_background": "light"
     },
     "output_type": "display_data"
    }
   ],
   "source": [
    "df.plot.bar(stacked=True, figsize=(16,9))"
   ]
  },
  {
   "cell_type": "code",
   "execution_count": 243,
   "id": "53b35f79",
   "metadata": {},
   "outputs": [
    {
     "data": {
      "text/plain": [
       "<AxesSubplot:>"
      ]
     },
     "execution_count": 243,
     "metadata": {},
     "output_type": "execute_result"
    },
    {
     "data": {
      "image/png": "[encoded data removed]",
      "text/plain": [
       "<Figure size 1152x648 with 1 Axes>"
      ]
     },
     "metadata": {
      "needs_background": "light"
     },
     "output_type": "display_data"
    }
   ],
   "source": [
    "df.plot.bar(rot=0, figsize=(16,9))"
   ]
  },
  {
   "cell_type": "markdown",
   "id": "b5a25861",
   "metadata": {},
   "source": [
    "## Titles of the papers with `commit` "
   ]
  },
  {
   "cell_type": "code",
   "execution_count": 266,
   "id": "99c9aaee",
   "metadata": {},
   "outputs": [
    {
     "name": "stdout",
     "output_type": "stream",
     "text": [
      "['Code and commit metrics of developer productivity: a study on team leaders perceptions.']\n",
      "['Correlations between bugginess and time-based commit characteristics.']\n"
     ]
    }
   ],
   "source": [
    "for item in result['Empirical_Software_Engineering']:\n",
    "    if len(item['matched_titles']['commit']) != 0:\n",
    "        print([i['title'] for i in item['matched_titles']['commit']])"
   ]
  },
  {
   "cell_type": "markdown",
   "id": "78159d26",
   "metadata": {},
   "source": [
    "## Titles of the papers with both `change` and `code`"
   ]
  },
  {
   "cell_type": "code",
   "execution_count": 270,
   "id": "6bbc3b88",
   "metadata": {},
   "outputs": [
    {
     "name": "stdout",
     "output_type": "stream",
     "text": [
      "How Well Do Change Sequences Predict Defects? Sequence Learning from Software Changes.\n",
      "Automating Change-Level Self-Admitted Technical Debt Determination.\n",
      "Supporting Change Impact Analysis Using a Recommendation System: An Industrial Case Study in a Safety-Critical Context.\n",
      "An Industrial Survey of Safety Evidence Change Impact Analysis Practice.\n",
      "The Impact of API Change- and Fault-Proneness on the User Ratings of Android Apps.\n",
      "Reducing Features to Improve Code Change-Based Bug Prediction.\n",
      "Examining the Potentially Confounding Effect of Class Size on the Associations between Object-Oriented Metrics and Change-Proneness.\n",
      "Visualizing Co-Change Information with the Evolution Radar.\n",
      "Change Distilling: Tree Differencing for Fine-Grained Source Code Change Extraction.\n",
      "Identifying Failure Causes in Java Programs: An Application of Change Impact Analysis.\n",
      "Predicting the Probability of Change in Object-Oriented Systems.\n",
      "Comparing High-Change Modules and Modules with the Highest Measurement Values in Two Large-Scale Open-Source Products.\n",
      "Predicting Source Code Changes by Mining Change History.\n",
      "SubCM: A Tool for Improved Visibility of Software Change in an Industrial Setting.\n",
      "Event-Based Traceability for Managing Evolutionary Change.\n",
      "Does Code Decay? Assessing the Evidence from Change Management Data.\n",
      "Software Change Contracts.\n",
      "Change impact analysis for maintenance and evolution of variable software systems.\n",
      "An effective change recommendation approach for supplementary bug fixes.\n",
      "An exploratory study for software change prediction in object-oriented systems using hybridized techniques.\n",
      "Editorial: Controlling change.\n",
      "Investigating design anti-pattern and design pattern mutations and their change- and fault-proneness.\n",
      "Improving change prediction models with code smell-related information.\n",
      "The effectiveness of context-based change application on automatic program repair.\n",
      "Boosting crash-inducing change localization with rank-performance-based feature subset selection.\n",
      "How does code readability change during software evolution?\n",
      "Associating working memory capacity and code change ordering with code review performance.\n",
      "Automatic patch generation with context-based change application.\n",
      "Aggregating Association Rules to Improve Change Recommendation.\n",
      "An empirical study on the interplay between semantic coupling and co-change of software classes.\n",
      "What are the effects of history length and age on mining software change impact?\n",
      "Do Programmers do Change Impact Analysis in Debugging?\n",
      "An initial analysis of software engineers' attitudes towards organizational change.\n",
      "An empirical study for software change prediction using imbalanced data.\n",
      "Change-based test selection: an empirical evaluation.\n",
      "Green mining: a methodology of relating software change and configuration to power consumption.\n",
      "The impact of imperfect change rules on framework API evolution identification: an empirical study.\n",
      "Examination of the software architecture change characterization scheme using three empirical studies.\n",
      "The ability of object-oriented metrics to predict change-proneness: a meta-analysis.\n",
      "An exploratory study of the impact of antipatterns on class change- and fault-proneness.\n",
      "Time variance and defect prediction in software projects - Towards an exploitation of periods of stability and change as well as a notion of concept drift in software projects.\n",
      "An empirical study on the influence of pattern roles on change-proneness.\n",
      "Understanding cost drivers of software evolution: a quantitative and qualitative investigation of change effort in two evolving software systems.\n",
      "Replaying development history to assess the effectiveness of change propagation tools.\n",
      "Requirements-Based Estimation of Change Costs.\n",
      "Change Detection in Synthetic Aperture Radar Images Based on Deep Neural Networks.\n"
     ]
    }
   ],
   "source": [
    "for journal in result.keys():\n",
    "    for item in result[journal]:\n",
    "        if len(item['matched_titles']['change']) != 0 and len(item['matched_titles']['code']) != 0:\n",
    "            for each in [i['title'] for i in item['matched_titles']['change']]:\n",
    "                print(each)"
   ]
  }
 ],
 "metadata": {
  "kernelspec": {
   "display_name": "Python [conda env:titles2bibtex]",
   "language": "python",
   "name": "conda-env-titles2bibtex-py"
  },
  "language_info": {
   "codemirror_mode": {
    "name": "ipython",
    "version": 3
   },
   "file_extension": ".py",
   "mimetype": "text/x-python",
   "name": "python",
   "nbconvert_exporter": "python",
   "pygments_lexer": "ipython3",
   "version": "3.8.10"
  }
 },
 "nbformat": 4,
 "nbformat_minor": 5
}
